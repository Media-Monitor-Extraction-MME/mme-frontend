{
 "cells": [
  {
   "cell_type": "code",
   "execution_count": 12,
   "metadata": {},
   "outputs": [],
   "source": [
    "import binascii\n",
    "from bson import ObjectId\n"
   ]
  },
  {
   "cell_type": "code",
   "execution_count": 15,
   "metadata": {},
   "outputs": [
    {
     "name": "stdout",
     "output_type": "stream",
     "text": [
      "19\n",
      "Hexstring:  b'74335f31627977383537'\n",
      "ObjectId:  000074335f31627977383537\n",
      "Decoded String: \u0000\u0000t3_1byw857\n"
     ]
    }
   ],
   "source": [
    "print(len(\"1790978078233252341\"))\n",
    "hex_string = binascii.hexlify(bytes(\"t3_1byw857\", 'utf-8'))  # Example hex string\n",
    "print(\"Hexstring: \", hex_string)\n",
    "hex_string = hex_string.zfill(24)\n",
    "objectId = ObjectId(hex_string.decode('utf-8'))\n",
    "print(\"ObjectId: \", objectId)\n",
    "decoded_string = binascii.unhexlify(str(objectId)).decode('utf-8')\n",
    "print(\"Decoded String:\", decoded_string)"
   ]
  },
  {
   "cell_type": "code",
   "execution_count": 14,
   "metadata": {},
   "outputs": [
    {
     "name": "stdout",
     "output_type": "stream",
     "text": [
      "19\n",
      "Hexstring:  1790978078233252341\n",
      "000001790978078233252341\n"
     ]
    }
   ],
   "source": [
    "print(len(\"1790978078233252341\"))\n",
    "hexstring = \"1790978078233252341\"\n",
    "print(\"Hexstring: \", hexstring)\n",
    "hexstring = hexstring.zfill(24)\n",
    "objectId = ObjectId(hexstring)\n",
    "print(objectId)"
   ]
  }
 ],
 "metadata": {
  "kernelspec": {
   "display_name": "Twitter-scraper-iOSDv18a",
   "language": "python",
   "name": "python3"
  },
  "language_info": {
   "codemirror_mode": {
    "name": "ipython",
    "version": 3
   },
   "file_extension": ".py",
   "mimetype": "text/x-python",
   "name": "python",
   "nbconvert_exporter": "python",
   "pygments_lexer": "ipython3",
   "version": "3.12.3"
  }
 },
 "nbformat": 4,
 "nbformat_minor": 2
}
