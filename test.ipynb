{
 "cells": [
  {
   "cell_type": "code",
   "execution_count": 2,
   "metadata": {},
   "outputs": [],
   "source": [
    "import binascii\n",
    "from bson import ObjectId\n"
   ]
  },
  {
   "cell_type": "code",
   "execution_count": 25,
   "metadata": {},
   "outputs": [
    {
     "name": "stdout",
     "output_type": "stream",
     "text": [
      "<re.Match object; span=(0, 59), match='https://twitter.com/glamelegance/status/179578570>\n",
      "1795785702065557613\n"
     ]
    }
   ],
   "source": [
    "import re\n",
    "\n",
    "link = \"https://twitter.com/i/status/1146826599381241856\"\n",
    "link2 = \"https://twitter.com/glamelegance/status/1795785702065557613\"\n",
    "regextest = re.match(r'https://twitter\\.com/[A-Za-z]+\\/status/([0-9]+)$', link2)\n",
    "print(regextest)\n",
    "print(regextest.group(2))\n"
   ]
  },
  {
   "cell_type": "code",
   "execution_count": 3,
   "metadata": {},
   "outputs": [
    {
     "name": "stderr",
     "output_type": "stream",
     "text": [
      "C:\\Users\\stvan\\AppData\\Local\\Packages\\PythonSoftwareFoundation.Python.3.12_qbz5n2kfra8p0\\LocalCache\\local-packages\\Python312\\site-packages\\pymongo\\uri_parser.py:313: UserWarning: Unknown option: inmemory. Did you mean one of (timeoutms, wtimeoutms, tlsinsecure) or maybe a camelCase version of one? Refer to docstring.\n",
      "  return get_validated_options(opts, warn)\n"
     ]
    },
    {
     "ename": "TypeError",
     "evalue": "'Collection' object is not callable. If you meant to call the 'insert' method on a 'Collection' object it is failing because no such method exists.",
     "output_type": "error",
     "traceback": [
      "\u001b[1;31m---------------------------------------------------------------------------\u001b[0m",
      "\u001b[1;31mTypeError\u001b[0m                                 Traceback (most recent call last)",
      "Cell \u001b[1;32mIn[3], line 27\u001b[0m\n\u001b[0;32m     24\u001b[0m db_emulator \u001b[38;5;241m=\u001b[39m MongoDBEmulator(collection)\n\u001b[0;32m     26\u001b[0m \u001b[38;5;66;03m# Insert documents into collections\u001b[39;00m\n\u001b[1;32m---> 27\u001b[0m \u001b[43mdb_emulator\u001b[49m\u001b[38;5;241;43m.\u001b[39;49m\u001b[43minsert\u001b[49m\u001b[43m(\u001b[49m\u001b[43m{\u001b[49m\u001b[38;5;124;43m\"\u001b[39;49m\u001b[38;5;124;43mname\u001b[39;49m\u001b[38;5;124;43m\"\u001b[39;49m\u001b[43m:\u001b[49m\u001b[43m \u001b[49m\u001b[38;5;124;43m\"\u001b[39;49m\u001b[38;5;124;43mAlice\u001b[39;49m\u001b[38;5;124;43m\"\u001b[39;49m\u001b[43m,\u001b[49m\u001b[43m \u001b[49m\u001b[38;5;124;43m\"\u001b[39;49m\u001b[38;5;124;43mage\u001b[39;49m\u001b[38;5;124;43m\"\u001b[39;49m\u001b[43m:\u001b[49m\u001b[43m \u001b[49m\u001b[38;5;241;43m25\u001b[39;49m\u001b[43m}\u001b[49m\u001b[43m)\u001b[49m\n\u001b[0;32m     28\u001b[0m db_emulator\u001b[38;5;241m.\u001b[39minsert({\u001b[38;5;124m\"\u001b[39m\u001b[38;5;124mname\u001b[39m\u001b[38;5;124m\"\u001b[39m: \u001b[38;5;124m\"\u001b[39m\u001b[38;5;124mBob\u001b[39m\u001b[38;5;124m\"\u001b[39m, \u001b[38;5;124m\"\u001b[39m\u001b[38;5;124mage\u001b[39m\u001b[38;5;124m\"\u001b[39m: \u001b[38;5;241m30\u001b[39m})\n\u001b[0;32m     29\u001b[0m db_emulator\u001b[38;5;241m.\u001b[39minsert({\u001b[38;5;124m\"\u001b[39m\u001b[38;5;124mname\u001b[39m\u001b[38;5;124m\"\u001b[39m: \u001b[38;5;124m\"\u001b[39m\u001b[38;5;124mCharlie\u001b[39m\u001b[38;5;124m\"\u001b[39m, \u001b[38;5;124m\"\u001b[39m\u001b[38;5;124mage\u001b[39m\u001b[38;5;124m\"\u001b[39m: \u001b[38;5;241m35\u001b[39m})\n",
      "Cell \u001b[1;32mIn[3], line 16\u001b[0m, in \u001b[0;36mMongoDBEmulator.insert\u001b[1;34m(self, document)\u001b[0m\n\u001b[0;32m     15\u001b[0m \u001b[38;5;28;01mdef\u001b[39;00m \u001b[38;5;21minsert\u001b[39m(\u001b[38;5;28mself\u001b[39m, document):\n\u001b[1;32m---> 16\u001b[0m   \u001b[38;5;28;43mself\u001b[39;49m\u001b[38;5;241;43m.\u001b[39;49m\u001b[43mcollection\u001b[49m\u001b[38;5;241;43m.\u001b[39;49m\u001b[43minsert\u001b[49m\u001b[43m(\u001b[49m\u001b[43mdocument\u001b[49m\u001b[43m)\u001b[49m\n",
      "File \u001b[1;32m~\\AppData\\Local\\Packages\\PythonSoftwareFoundation.Python.3.12_qbz5n2kfra8p0\\LocalCache\\local-packages\\Python312\\site-packages\\pymongo\\collection.py:3479\u001b[0m, in \u001b[0;36mCollection.__call__\u001b[1;34m(self, *args, **kwargs)\u001b[0m\n\u001b[0;32m   3472\u001b[0m \u001b[38;5;28;01mif\u001b[39;00m \u001b[38;5;124m\"\u001b[39m\u001b[38;5;124m.\u001b[39m\u001b[38;5;124m\"\u001b[39m \u001b[38;5;129;01mnot\u001b[39;00m \u001b[38;5;129;01min\u001b[39;00m \u001b[38;5;28mself\u001b[39m\u001b[38;5;241m.\u001b[39m__name:\n\u001b[0;32m   3473\u001b[0m     \u001b[38;5;28;01mraise\u001b[39;00m \u001b[38;5;167;01mTypeError\u001b[39;00m(\n\u001b[0;32m   3474\u001b[0m         \u001b[38;5;124m\"\u001b[39m\u001b[38;5;124m'\u001b[39m\u001b[38;5;124mCollection\u001b[39m\u001b[38;5;124m'\u001b[39m\u001b[38;5;124m object is not callable. If you \u001b[39m\u001b[38;5;124m\"\u001b[39m\n\u001b[0;32m   3475\u001b[0m         \u001b[38;5;124m\"\u001b[39m\u001b[38;5;124mmeant to call the \u001b[39m\u001b[38;5;124m'\u001b[39m\u001b[38;5;132;01m%s\u001b[39;00m\u001b[38;5;124m'\u001b[39m\u001b[38;5;124m method on a \u001b[39m\u001b[38;5;124m'\u001b[39m\u001b[38;5;124mDatabase\u001b[39m\u001b[38;5;124m'\u001b[39m\u001b[38;5;124m \u001b[39m\u001b[38;5;124m\"\u001b[39m\n\u001b[0;32m   3476\u001b[0m         \u001b[38;5;124m\"\u001b[39m\u001b[38;5;124mobject it is failing because no such method \u001b[39m\u001b[38;5;124m\"\u001b[39m\n\u001b[0;32m   3477\u001b[0m         \u001b[38;5;124m\"\u001b[39m\u001b[38;5;124mexists.\u001b[39m\u001b[38;5;124m\"\u001b[39m \u001b[38;5;241m%\u001b[39m \u001b[38;5;28mself\u001b[39m\u001b[38;5;241m.\u001b[39m__name\n\u001b[0;32m   3478\u001b[0m     )\n\u001b[1;32m-> 3479\u001b[0m \u001b[38;5;28;01mraise\u001b[39;00m \u001b[38;5;167;01mTypeError\u001b[39;00m(\n\u001b[0;32m   3480\u001b[0m     \u001b[38;5;124m\"\u001b[39m\u001b[38;5;124m'\u001b[39m\u001b[38;5;124mCollection\u001b[39m\u001b[38;5;124m'\u001b[39m\u001b[38;5;124m object is not callable. If you meant to \u001b[39m\u001b[38;5;124m\"\u001b[39m\n\u001b[0;32m   3481\u001b[0m     \u001b[38;5;124m\"\u001b[39m\u001b[38;5;124mcall the \u001b[39m\u001b[38;5;124m'\u001b[39m\u001b[38;5;132;01m%s\u001b[39;00m\u001b[38;5;124m'\u001b[39m\u001b[38;5;124m method on a \u001b[39m\u001b[38;5;124m'\u001b[39m\u001b[38;5;124mCollection\u001b[39m\u001b[38;5;124m'\u001b[39m\u001b[38;5;124m object it is \u001b[39m\u001b[38;5;124m\"\u001b[39m\n\u001b[0;32m   3482\u001b[0m     \u001b[38;5;124m\"\u001b[39m\u001b[38;5;124mfailing because no such method exists.\u001b[39m\u001b[38;5;124m\"\u001b[39m \u001b[38;5;241m%\u001b[39m \u001b[38;5;28mself\u001b[39m\u001b[38;5;241m.\u001b[39m__name\u001b[38;5;241m.\u001b[39msplit(\u001b[38;5;124m\"\u001b[39m\u001b[38;5;124m.\u001b[39m\u001b[38;5;124m\"\u001b[39m)[\u001b[38;5;241m-\u001b[39m\u001b[38;5;241m1\u001b[39m]\n\u001b[0;32m   3483\u001b[0m )\n",
      "\u001b[1;31mTypeError\u001b[0m: 'Collection' object is not callable. If you meant to call the 'insert' method on a 'Collection' object it is failing because no such method exists."
     ]
    }
   ],
   "source": [
    "import pymongo\n",
    "\n",
    "# Create an in-memory MongoDB client\n",
    "client = pymongo.MongoClient('mongodb://localhost/?inMemory=true')\n",
    "\n",
    "# Create a database and collection\n",
    "db = client['mydb']\n",
    "collection = db['mycollection']\n",
    "\n",
    "# Define the MongoDBEmulator class\n",
    "class MongoDBEmulator:\n",
    "  def __init__(self, collection):\n",
    "    self.collection = collection\n",
    "\n",
    "  def insert(self, document):\n",
    "    self.collection.insert(document)\n",
    "    # if document not in self.collection:\n",
    "    #   self.collection.append(document)\n",
    "    #   print(f\"Inserted document: {document}\")\n",
    "    # else:\n",
    "    #     print(f\"Duplicate document found: {document}\")\n",
    "\n",
    "# Usage example\n",
    "db_emulator = MongoDBEmulator(collection)\n",
    "\n",
    "# Insert documents into collections\n",
    "db_emulator.insert({\"name\": \"Alice\", \"age\": 25})\n",
    "db_emulator.insert({\"name\": \"Bob\", \"age\": 30})\n",
    "db_emulator.insert({\"name\": \"Charlie\", \"age\": 35})\n",
    "db_emulator.insert({\"name\": \"Alice\", \"age\": 25})  # Duplicate insert\n",
    "\n",
    "db_emulator.insert({\"name\": \"Apple\", \"price\": 1.99})\n",
    "db_emulator.insert({\"name\": \"Banana\", \"price\": 0.99})\n",
    "db_emulator.insert({\"name\": \"Apple\", \"price\": 1.99})  # Duplicate insert"
   ]
  },
  {
   "cell_type": "code",
   "execution_count": 3,
   "metadata": {},
   "outputs": [
    {
     "name": "stdout",
     "output_type": "stream",
     "text": [
      "19\n",
      "Hexstring:  b'74335f31627977383537'\n",
      "ObjectId:  000074335f31627977383537\n",
      "Decoded String: \u0000\u0000t3_1byw857\n"
     ]
    }
   ],
   "source": [
    "print(len(\"1790978078233252341\"))\n",
    "hex_string = binascii.hexlify(bytes(\"t3_1byw857\", 'utf-8'))  # Example hex string\n",
    "print(\"Hexstring: \", hex_string)\n",
    "hex_string = hex_string.zfill(24)\n",
    "objectId = ObjectId(hex_string.decode('utf-8'))\n",
    "print(\"ObjectId: \", objectId)\n",
    "decoded_string = binascii.unhexlify(str(objectId)).decode('utf-8')\n",
    "print(\"Decoded String:\", decoded_string)"
   ]
  },
  {
   "cell_type": "code",
   "execution_count": 7,
   "metadata": {},
   "outputs": [
    {
     "name": "stdout",
     "output_type": "stream",
     "text": [
      "19\n",
      "Hexstring:  1790978078233252341\n",
      "000001790978078233252341\n"
     ]
    }
   ],
   "source": [
    "print(len(\"1790978078233252341\"))\n",
    "hexstring = \"1790978078233252341\"\n",
    "print(\"Hexstring: \", hexstring)\n",
    "hexstring = hexstring.zfill(24)\n",
    "objectId = ObjectId(hexstring)\n",
    "print(objectId)"
   ]
  }
 ],
 "metadata": {
  "kernelspec": {
   "display_name": "Twitter-scraper-iOSDv18a",
   "language": "python",
   "name": "python3"
  },
  "language_info": {
   "codemirror_mode": {
    "name": "ipython",
    "version": 3
   },
   "file_extension": ".py",
   "mimetype": "text/x-python",
   "name": "python",
   "nbconvert_exporter": "python",
   "pygments_lexer": "ipython3",
   "version": "3.12.3"
  }
 },
 "nbformat": 4,
 "nbformat_minor": 2
}
